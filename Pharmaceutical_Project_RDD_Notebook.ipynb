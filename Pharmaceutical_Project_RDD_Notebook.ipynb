{
 "cells": [
  {
   "cell_type": "markdown",
   "metadata": {
    "application/vnd.databricks.v1+cell": {
     "cellMetadata": {
      "byteLimit": 2048000,
      "rowLimit": 10000
     },
     "inputWidgets": {},
     "nuid": "fc1960fe-aba6-4ac1-8850-5d907a16c8de",
     "showTitle": false,
     "title": ""
    }
   },
   "source": [
    "Import Libraries"
   ]
  },
  {
   "cell_type": "code",
   "execution_count": 0,
   "metadata": {
    "application/vnd.databricks.v1+cell": {
     "cellMetadata": {
      "byteLimit": 2048000,
      "rowLimit": 10000
     },
     "inputWidgets": {},
     "nuid": "75c6f4cc-22f9-4f96-b13e-a5d117a226f3",
     "showTitle": false,
     "title": ""
    }
   },
   "outputs": [],
   "source": [
    "import pandas as pd\n",
    "import matplotlib.pyplot as plt\n",
    "import seaborn as sns\n",
    "\n",
    "from pyspark.sql.functions import *\n",
    "from pyspark.sql.types import *\n",
    "\n",
    "import calendar\n",
    "import csv\n",
    "import os\n",
    "from io import StringIO"
   ]
  },
  {
   "cell_type": "markdown",
   "metadata": {
    "application/vnd.databricks.v1+cell": {
     "cellMetadata": {
      "byteLimit": 2048000,
      "rowLimit": 10000
     },
     "inputWidgets": {},
     "nuid": "377ce250-2ab1-4265-9103-c2e1229addaf",
     "showTitle": false,
     "title": ""
    }
   },
   "source": [
    "Define Unziping files Function"
   ]
  },
  {
   "cell_type": "code",
   "execution_count": 0,
   "metadata": {
    "application/vnd.databricks.v1+cell": {
     "cellMetadata": {
      "byteLimit": 2048000,
      "rowLimit": 10000
     },
     "inputWidgets": {},
     "nuid": "2f41db0f-dbbf-4ae7-ac45-ff1e045c8ac7",
     "showTitle": false,
     "title": ""
    }
   },
   "outputs": [],
   "source": [
    "def unzipper(file_name=None):\n",
    "    if not file_name:\n",
    "        # Ask the user to provide the name of the file to unzip.\n",
    "        file_name = input(\"Kindly Enter the name of the file you want unzipped (including file type): \")\n",
    "\n",
    "    # Construct full source path\n",
    "    file_name= file_name\n",
    "    file_root = '/FileStore/tables'\n",
    "    destination_path = 'dbfs:/FileStore/tables/'\n",
    "\n",
    "    source_path = f\"{file_root}/{file_name}\"\n",
    "    # Copy zip file from source to destination\n",
    "    dbutils.fs.cp(source_path, 'file:/tmp/')\n",
    "    \n",
    "    # Unzip the file and get names\n",
    "    unzip_cmd = f'unzip -o -d /tmp/ /tmp/{file_name}'  # '-o' flag to overwrite existing files\n",
    "    os.system(unzip_cmd)\n",
    "    extracted_file_name = os.path.splitext(file_name)[0]\n",
    "    \n",
    "    # Copy the extracted file to destination\n",
    "    dbutils.fs.mv(f\"file:/tmp/{extracted_file_name}.csv\", destination_path)"
   ]
  },
  {
   "cell_type": "code",
   "execution_count": 0,
   "metadata": {
    "application/vnd.databricks.v1+cell": {
     "cellMetadata": {
      "byteLimit": 2048000,
      "rowLimit": 10000
     },
     "inputWidgets": {},
     "nuid": "0ca18549-3501-4a9a-8c6f-74fd19b936e3",
     "showTitle": false,
     "title": ""
    }
   },
   "outputs": [],
   "source": [
    "#prompting for file name input to unzip file but use case has been commentted out to allow coninuous run of the script ass requested in assignment brief. but this is a very useful tool when you just want to quickly unzip just a file without putting them in strings and all\n",
    "#unzipper()"
   ]
  },
  {
   "cell_type": "code",
   "execution_count": 0,
   "metadata": {
    "application/vnd.databricks.v1+cell": {
     "cellMetadata": {
      "byteLimit": 2048000,
      "rowLimit": 10000
     },
     "inputWidgets": {},
     "nuid": "1412469f-4449-43d8-a700-d776640a44d2",
     "showTitle": false,
     "title": ""
    }
   },
   "outputs": [
    {
     "output_type": "display_data",
     "data": {
      "text/plain": [
       "com.databricks.backend.common.rpc.CommandCancelledException\n",
       "\tat com.databricks.spark.chauffeur.ExecContextState.cancel(ExecContextState.scala:429)\n",
       "\tat com.databricks.spark.chauffeur.ChauffeurState.cancelExecution(ChauffeurState.scala:1225)\n",
       "\tat com.databricks.spark.chauffeur.ChauffeurState.$anonfun$process$1(ChauffeurState.scala:958)\n",
       "\tat com.databricks.logging.UsageLogging.$anonfun$recordOperation$1(UsageLogging.scala:582)\n",
       "\tat com.databricks.logging.UsageLogging.executeThunkAndCaptureResultTags$1(UsageLogging.scala:685)\n",
       "\tat com.databricks.logging.UsageLogging.$anonfun$recordOperationWithResultTags$4(UsageLogging.scala:703)\n",
       "\tat com.databricks.logging.UsageLogging.$anonfun$withAttributionContext$1(UsageLogging.scala:435)\n",
       "\tat scala.util.DynamicVariable.withValue(DynamicVariable.scala:62)\n",
       "\tat com.databricks.logging.AttributionContext$.withValue(AttributionContext.scala:216)\n",
       "\tat com.databricks.logging.UsageLogging.withAttributionContext(UsageLogging.scala:433)\n",
       "\tat com.databricks.logging.UsageLogging.withAttributionContext$(UsageLogging.scala:427)\n",
       "\tat com.databricks.spark.chauffeur.ChauffeurState.withAttributionContext(ChauffeurState.scala:67)\n",
       "\tat com.databricks.logging.UsageLogging.withAttributionTags(UsageLogging.scala:481)\n",
       "\tat com.databricks.logging.UsageLogging.withAttributionTags$(UsageLogging.scala:464)\n",
       "\tat com.databricks.spark.chauffeur.ChauffeurState.withAttributionTags(ChauffeurState.scala:67)\n",
       "\tat com.databricks.logging.UsageLogging.recordOperationWithResultTags(UsageLogging.scala:680)\n",
       "\tat com.databricks.logging.UsageLogging.recordOperationWithResultTags$(UsageLogging.scala:591)\n",
       "\tat com.databricks.spark.chauffeur.ChauffeurState.recordOperationWithResultTags(ChauffeurState.scala:67)\n",
       "\tat com.databricks.logging.UsageLogging.recordOperation(UsageLogging.scala:582)\n",
       "\tat com.databricks.logging.UsageLogging.recordOperation$(UsageLogging.scala:551)\n",
       "\tat com.databricks.spark.chauffeur.ChauffeurState.recordOperation(ChauffeurState.scala:67)\n",
       "\tat com.databricks.spark.chauffeur.ChauffeurState.process(ChauffeurState.scala:915)\n",
       "\tat com.databricks.spark.chauffeur.Chauffeur$$anon$1$$anonfun$receive$1.handleDriverRequest$1(Chauffeur.scala:671)\n",
       "\tat com.databricks.spark.chauffeur.Chauffeur$$anon$1$$anonfun$receive$1.handleDriverRequestWithUsageLogging$1(Chauffeur.scala:685)\n",
       "\tat com.databricks.spark.chauffeur.Chauffeur$$anon$1$$anonfun$receive$1.applyOrElse(Chauffeur.scala:748)\n",
       "\tat com.databricks.spark.chauffeur.Chauffeur$$anon$1$$anonfun$receive$1.applyOrElse(Chauffeur.scala:553)\n",
       "\tat com.databricks.rpc.ServerBackend.$anonfun$internalReceive0$2(ServerBackend.scala:174)\n",
       "\tat com.databricks.rpc.ServerBackend$$anonfun$commonReceive$1.applyOrElse(ServerBackend.scala:200)\n",
       "\tat com.databricks.rpc.ServerBackend$$anonfun$commonReceive$1.applyOrElse(ServerBackend.scala:200)\n",
       "\tat com.databricks.rpc.ServerBackend.internalReceive0(ServerBackend.scala:171)\n",
       "\tat com.databricks.rpc.ServerBackend.$anonfun$internalReceive$1(ServerBackend.scala:147)\n",
       "\tat com.databricks.logging.UsageLogging.$anonfun$recordOperation$1(UsageLogging.scala:582)\n",
       "\tat com.databricks.logging.UsageLogging.executeThunkAndCaptureResultTags$1(UsageLogging.scala:685)\n",
       "\tat com.databricks.logging.UsageLogging.$anonfun$recordOperationWithResultTags$4(UsageLogging.scala:703)\n",
       "\tat com.databricks.logging.UsageLogging.$anonfun$withAttributionContext$1(UsageLogging.scala:435)\n",
       "\tat scala.util.DynamicVariable.withValue(DynamicVariable.scala:62)\n",
       "\tat com.databricks.logging.AttributionContext$.withValue(AttributionContext.scala:216)\n",
       "\tat com.databricks.logging.UsageLogging.withAttributionContext(UsageLogging.scala:433)\n",
       "\tat com.databricks.logging.UsageLogging.withAttributionContext$(UsageLogging.scala:427)\n",
       "\tat com.databricks.rpc.ServerBackend.withAttributionContext(ServerBackend.scala:22)\n",
       "\tat com.databricks.logging.UsageLogging.withAttributionTags(UsageLogging.scala:481)\n",
       "\tat com.databricks.logging.UsageLogging.withAttributionTags$(UsageLogging.scala:464)\n",
       "\tat com.databricks.rpc.ServerBackend.withAttributionTags(ServerBackend.scala:22)\n",
       "\tat com.databricks.logging.UsageLogging.recordOperationWithResultTags(UsageLogging.scala:680)\n",
       "\tat com.databricks.logging.UsageLogging.recordOperationWithResultTags$(UsageLogging.scala:591)\n",
       "\tat com.databricks.rpc.ServerBackend.recordOperationWithResultTags(ServerBackend.scala:22)\n",
       "\tat com.databricks.logging.UsageLogging.recordOperation(UsageLogging.scala:582)\n",
       "\tat com.databricks.logging.UsageLogging.recordOperation$(UsageLogging.scala:551)\n",
       "\tat com.databricks.rpc.ServerBackend.recordOperation(ServerBackend.scala:22)\n",
       "\tat com.databricks.rpc.ServerBackend.internalReceive(ServerBackend.scala:147)\n",
       "\tat com.databricks.rpc.JettyServer$RequestManager.handleRPC(JettyServer.scala:1021)\n",
       "\tat com.databricks.rpc.JettyServer$RequestManager.handleRequestAndRespond(JettyServer.scala:942)\n",
       "\tat com.databricks.rpc.JettyServer$RequestManager.$anonfun$handleHttp$6(JettyServer.scala:546)\n",
       "\tat com.databricks.rpc.JettyServer$RequestManager.$anonfun$handleHttp$6$adapted(JettyServer.scala:515)\n",
       "\tat com.databricks.logging.activity.ActivityContextFactory$.$anonfun$withActivityInternal$4(ActivityContextFactory.scala:483)\n",
       "\tat com.databricks.logging.UsageLogging.$anonfun$withAttributionContext$1(UsageLogging.scala:435)\n",
       "\tat scala.util.DynamicVariable.withValue(DynamicVariable.scala:62)\n",
       "\tat com.databricks.logging.AttributionContext$.withValue(AttributionContext.scala:216)\n",
       "\tat com.databricks.logging.UsageLogging.withAttributionContext(UsageLogging.scala:433)\n",
       "\tat com.databricks.logging.UsageLogging.withAttributionContext$(UsageLogging.scala:427)\n",
       "\tat com.databricks.logging.activity.ActivityContextFactory$.withAttributionContext(ActivityContextFactory.scala:58)\n",
       "\tat com.databricks.logging.activity.ActivityContextFactory$.$anonfun$withActivityInternal$1(ActivityContextFactory.scala:483)\n",
       "\tat com.databricks.context.integrity.IntegrityCheckContext$ThreadLocalStorage$.withValue(IntegrityCheckContext.scala:75)\n",
       "\tat com.databricks.logging.activity.ActivityContextFactory$.withActivityInternal(ActivityContextFactory.scala:458)\n",
       "\tat com.databricks.logging.activity.ActivityContextFactory$.withServiceRequestActivity(ActivityContextFactory.scala:160)\n",
       "\tat com.databricks.rpc.JettyServer$RequestManager.handleHttp(JettyServer.scala:515)\n",
       "\tat com.databricks.rpc.JettyServer$RequestManager.doPost(JettyServer.scala:405)\n",
       "\tat javax.servlet.http.HttpServlet.service(HttpServlet.java:665)\n",
       "\tat com.databricks.rpc.HttpServletWithPatch.service(HttpServletWithPatch.scala:33)\n",
       "\tat javax.servlet.http.HttpServlet.service(HttpServlet.java:750)\n",
       "\tat org.eclipse.jetty.servlet.ServletHolder.handle(ServletHolder.java:799)\n",
       "\tat org.eclipse.jetty.servlet.ServletHandler.doHandle(ServletHandler.java:554)\n",
       "\tat org.eclipse.jetty.server.handler.ScopedHandler.nextScope(ScopedHandler.java:190)\n",
       "\tat org.eclipse.jetty.servlet.ServletHandler.doScope(ServletHandler.java:505)\n",
       "\tat org.eclipse.jetty.server.handler.ScopedHandler.handle(ScopedHandler.java:141)\n",
       "\tat org.eclipse.jetty.server.handler.HandlerWrapper.handle(HandlerWrapper.java:127)\n",
       "\tat org.eclipse.jetty.server.Server.handle(Server.java:516)\n",
       "\tat org.eclipse.jetty.server.HttpChannel.lambda$handle$1(HttpChannel.java:487)\n",
       "\tat org.eclipse.jetty.server.HttpChannel.dispatch(HttpChannel.java:732)\n",
       "\tat org.eclipse.jetty.server.HttpChannel.handle(HttpChannel.java:479)\n",
       "\tat org.eclipse.jetty.server.HttpConnection.onFillable(HttpConnection.java:277)\n",
       "\tat org.eclipse.jetty.io.AbstractConnection$ReadCallback.succeeded(AbstractConnection.java:311)\n",
       "\tat org.eclipse.jetty.io.FillInterest.fillable(FillInterest.java:105)\n",
       "\tat org.eclipse.jetty.io.ssl.SslConnection$DecryptedEndPoint.onFillable(SslConnection.java:555)\n",
       "\tat org.eclipse.jetty.io.ssl.SslConnection.onFillable(SslConnection.java:410)\n",
       "\tat org.eclipse.jetty.io.ssl.SslConnection$2.succeeded(SslConnection.java:164)\n",
       "\tat org.eclipse.jetty.io.FillInterest.fillable(FillInterest.java:105)\n",
       "\tat org.eclipse.jetty.io.ChannelEndPoint$1.run(ChannelEndPoint.java:104)\n",
       "\tat org.eclipse.jetty.util.thread.strategy.EatWhatYouKill.runTask(EatWhatYouKill.java:338)\n",
       "\tat org.eclipse.jetty.util.thread.strategy.EatWhatYouKill.doProduce(EatWhatYouKill.java:315)\n",
       "\tat org.eclipse.jetty.util.thread.strategy.EatWhatYouKill.tryProduce(EatWhatYouKill.java:173)\n",
       "\tat org.eclipse.jetty.util.thread.strategy.EatWhatYouKill.run(EatWhatYouKill.java:131)\n",
       "\tat org.eclipse.jetty.util.thread.ReservedThreadExecutor$ReservedThread.run(ReservedThreadExecutor.java:409)\n",
       "\tat com.databricks.rpc.InstrumentedQueuedThreadPool$$anon$1.$anonfun$run$4(InstrumentedQueuedThreadPool.scala:104)\n",
       "\tat scala.runtime.java8.JFunction0$mcV$sp.apply(JFunction0$mcV$sp.java:23)\n",
       "\tat com.databricks.logging.UsageLogging.$anonfun$withAttributionContext$1(UsageLogging.scala:435)\n",
       "\tat scala.util.DynamicVariable.withValue(DynamicVariable.scala:62)\n",
       "\tat com.databricks.logging.AttributionContext$.withValue(AttributionContext.scala:216)\n",
       "\tat com.databricks.logging.UsageLogging.withAttributionContext(UsageLogging.scala:433)\n",
       "\tat com.databricks.logging.UsageLogging.withAttributionContext$(UsageLogging.scala:427)\n",
       "\tat com.databricks.rpc.InstrumentedQueuedThreadPool.withAttributionContext(InstrumentedQueuedThreadPool.scala:47)\n",
       "\tat com.databricks.rpc.InstrumentedQueuedThreadPool$$anon$1.$anonfun$run$1(InstrumentedQueuedThreadPool.scala:104)\n",
       "\tat scala.runtime.java8.JFunction0$mcV$sp.apply(JFunction0$mcV$sp.java:23)\n",
       "\tat com.databricks.instrumentation.QueuedThreadPoolInstrumenter.trackActiveThreads(QueuedThreadPoolInstrumenter.scala:67)\n",
       "\tat com.databricks.instrumentation.QueuedThreadPoolInstrumenter.trackActiveThreads$(QueuedThreadPoolInstrumenter.scala:64)\n",
       "\tat com.databricks.rpc.InstrumentedQueuedThreadPool.trackActiveThreads(InstrumentedQueuedThreadPool.scala:47)\n",
       "\tat com.databricks.rpc.InstrumentedQueuedThreadPool$$anon$1.run(InstrumentedQueuedThreadPool.scala:86)\n",
       "\tat org.eclipse.jetty.util.thread.QueuedThreadPool.runJob(QueuedThreadPool.java:883)\n",
       "\tat org.eclipse.jetty.util.thread.QueuedThreadPool$Runner.run(QueuedThreadPool.java:1034)\n",
       "\tat java.lang.Thread.run(Thread.java:750)"
      ]
     },
     "metadata": {
      "application/vnd.databricks.v1+output": {
       "addedWidgets": {},
       "arguments": {},
       "datasetInfos": [],
       "jupyterProps": null,
       "metadata": {
        "errorSummary": "Cancelled"
       },
       "removedWidgets": [],
       "sqlProps": null,
       "stackFrames": [
        "com.databricks.backend.common.rpc.CommandCancelledException",
        "\tat com.databricks.spark.chauffeur.ExecContextState.cancel(ExecContextState.scala:429)",
        "\tat com.databricks.spark.chauffeur.ChauffeurState.cancelExecution(ChauffeurState.scala:1225)",
        "\tat com.databricks.spark.chauffeur.ChauffeurState.$anonfun$process$1(ChauffeurState.scala:958)",
        "\tat com.databricks.logging.UsageLogging.$anonfun$recordOperation$1(UsageLogging.scala:582)",
        "\tat com.databricks.logging.UsageLogging.executeThunkAndCaptureResultTags$1(UsageLogging.scala:685)",
        "\tat com.databricks.logging.UsageLogging.$anonfun$recordOperationWithResultTags$4(UsageLogging.scala:703)",
        "\tat com.databricks.logging.UsageLogging.$anonfun$withAttributionContext$1(UsageLogging.scala:435)",
        "\tat scala.util.DynamicVariable.withValue(DynamicVariable.scala:62)",
        "\tat com.databricks.logging.AttributionContext$.withValue(AttributionContext.scala:216)",
        "\tat com.databricks.logging.UsageLogging.withAttributionContext(UsageLogging.scala:433)",
        "\tat com.databricks.logging.UsageLogging.withAttributionContext$(UsageLogging.scala:427)",
        "\tat com.databricks.spark.chauffeur.ChauffeurState.withAttributionContext(ChauffeurState.scala:67)",
        "\tat com.databricks.logging.UsageLogging.withAttributionTags(UsageLogging.scala:481)",
        "\tat com.databricks.logging.UsageLogging.withAttributionTags$(UsageLogging.scala:464)",
        "\tat com.databricks.spark.chauffeur.ChauffeurState.withAttributionTags(ChauffeurState.scala:67)",
        "\tat com.databricks.logging.UsageLogging.recordOperationWithResultTags(UsageLogging.scala:680)",
        "\tat com.databricks.logging.UsageLogging.recordOperationWithResultTags$(UsageLogging.scala:591)",
        "\tat com.databricks.spark.chauffeur.ChauffeurState.recordOperationWithResultTags(ChauffeurState.scala:67)",
        "\tat com.databricks.logging.UsageLogging.recordOperation(UsageLogging.scala:582)",
        "\tat com.databricks.logging.UsageLogging.recordOperation$(UsageLogging.scala:551)",
        "\tat com.databricks.spark.chauffeur.ChauffeurState.recordOperation(ChauffeurState.scala:67)",
        "\tat com.databricks.spark.chauffeur.ChauffeurState.process(ChauffeurState.scala:915)",
        "\tat com.databricks.spark.chauffeur.Chauffeur$$anon$1$$anonfun$receive$1.handleDriverRequest$1(Chauffeur.scala:671)",
        "\tat com.databricks.spark.chauffeur.Chauffeur$$anon$1$$anonfun$receive$1.handleDriverRequestWithUsageLogging$1(Chauffeur.scala:685)",
        "\tat com.databricks.spark.chauffeur.Chauffeur$$anon$1$$anonfun$receive$1.applyOrElse(Chauffeur.scala:748)",
        "\tat com.databricks.spark.chauffeur.Chauffeur$$anon$1$$anonfun$receive$1.applyOrElse(Chauffeur.scala:553)",
        "\tat com.databricks.rpc.ServerBackend.$anonfun$internalReceive0$2(ServerBackend.scala:174)",
        "\tat com.databricks.rpc.ServerBackend$$anonfun$commonReceive$1.applyOrElse(ServerBackend.scala:200)",
        "\tat com.databricks.rpc.ServerBackend$$anonfun$commonReceive$1.applyOrElse(ServerBackend.scala:200)",
        "\tat com.databricks.rpc.ServerBackend.internalReceive0(ServerBackend.scala:171)",
        "\tat com.databricks.rpc.ServerBackend.$anonfun$internalReceive$1(ServerBackend.scala:147)",
        "\tat com.databricks.logging.UsageLogging.$anonfun$recordOperation$1(UsageLogging.scala:582)",
        "\tat com.databricks.logging.UsageLogging.executeThunkAndCaptureResultTags$1(UsageLogging.scala:685)",
        "\tat com.databricks.logging.UsageLogging.$anonfun$recordOperationWithResultTags$4(UsageLogging.scala:703)",
        "\tat com.databricks.logging.UsageLogging.$anonfun$withAttributionContext$1(UsageLogging.scala:435)",
        "\tat scala.util.DynamicVariable.withValue(DynamicVariable.scala:62)",
        "\tat com.databricks.logging.AttributionContext$.withValue(AttributionContext.scala:216)",
        "\tat com.databricks.logging.UsageLogging.withAttributionContext(UsageLogging.scala:433)",
        "\tat com.databricks.logging.UsageLogging.withAttributionContext$(UsageLogging.scala:427)",
        "\tat com.databricks.rpc.ServerBackend.withAttributionContext(ServerBackend.scala:22)",
        "\tat com.databricks.logging.UsageLogging.withAttributionTags(UsageLogging.scala:481)",
        "\tat com.databricks.logging.UsageLogging.withAttributionTags$(UsageLogging.scala:464)",
        "\tat com.databricks.rpc.ServerBackend.withAttributionTags(ServerBackend.scala:22)",
        "\tat com.databricks.logging.UsageLogging.recordOperationWithResultTags(UsageLogging.scala:680)",
        "\tat com.databricks.logging.UsageLogging.recordOperationWithResultTags$(UsageLogging.scala:591)",
        "\tat com.databricks.rpc.ServerBackend.recordOperationWithResultTags(ServerBackend.scala:22)",
        "\tat com.databricks.logging.UsageLogging.recordOperation(UsageLogging.scala:582)",
        "\tat com.databricks.logging.UsageLogging.recordOperation$(UsageLogging.scala:551)",
        "\tat com.databricks.rpc.ServerBackend.recordOperation(ServerBackend.scala:22)",
        "\tat com.databricks.rpc.ServerBackend.internalReceive(ServerBackend.scala:147)",
        "\tat com.databricks.rpc.JettyServer$RequestManager.handleRPC(JettyServer.scala:1021)",
        "\tat com.databricks.rpc.JettyServer$RequestManager.handleRequestAndRespond(JettyServer.scala:942)",
        "\tat com.databricks.rpc.JettyServer$RequestManager.$anonfun$handleHttp$6(JettyServer.scala:546)",
        "\tat com.databricks.rpc.JettyServer$RequestManager.$anonfun$handleHttp$6$adapted(JettyServer.scala:515)",
        "\tat com.databricks.logging.activity.ActivityContextFactory$.$anonfun$withActivityInternal$4(ActivityContextFactory.scala:483)",
        "\tat com.databricks.logging.UsageLogging.$anonfun$withAttributionContext$1(UsageLogging.scala:435)",
        "\tat scala.util.DynamicVariable.withValue(DynamicVariable.scala:62)",
        "\tat com.databricks.logging.AttributionContext$.withValue(AttributionContext.scala:216)",
        "\tat com.databricks.logging.UsageLogging.withAttributionContext(UsageLogging.scala:433)",
        "\tat com.databricks.logging.UsageLogging.withAttributionContext$(UsageLogging.scala:427)",
        "\tat com.databricks.logging.activity.ActivityContextFactory$.withAttributionContext(ActivityContextFactory.scala:58)",
        "\tat com.databricks.logging.activity.ActivityContextFactory$.$anonfun$withActivityInternal$1(ActivityContextFactory.scala:483)",
        "\tat com.databricks.context.integrity.IntegrityCheckContext$ThreadLocalStorage$.withValue(IntegrityCheckContext.scala:75)",
        "\tat com.databricks.logging.activity.ActivityContextFactory$.withActivityInternal(ActivityContextFactory.scala:458)",
        "\tat com.databricks.logging.activity.ActivityContextFactory$.withServiceRequestActivity(ActivityContextFactory.scala:160)",
        "\tat com.databricks.rpc.JettyServer$RequestManager.handleHttp(JettyServer.scala:515)",
        "\tat com.databricks.rpc.JettyServer$RequestManager.doPost(JettyServer.scala:405)",
        "\tat javax.servlet.http.HttpServlet.service(HttpServlet.java:665)",
        "\tat com.databricks.rpc.HttpServletWithPatch.service(HttpServletWithPatch.scala:33)",
        "\tat javax.servlet.http.HttpServlet.service(HttpServlet.java:750)",
        "\tat org.eclipse.jetty.servlet.ServletHolder.handle(ServletHolder.java:799)",
        "\tat org.eclipse.jetty.servlet.ServletHandler.doHandle(ServletHandler.java:554)",
        "\tat org.eclipse.jetty.server.handler.ScopedHandler.nextScope(ScopedHandler.java:190)",
        "\tat org.eclipse.jetty.servlet.ServletHandler.doScope(ServletHandler.java:505)",
        "\tat org.eclipse.jetty.server.handler.ScopedHandler.handle(ScopedHandler.java:141)",
        "\tat org.eclipse.jetty.server.handler.HandlerWrapper.handle(HandlerWrapper.java:127)",
        "\tat org.eclipse.jetty.server.Server.handle(Server.java:516)",
        "\tat org.eclipse.jetty.server.HttpChannel.lambda$handle$1(HttpChannel.java:487)",
        "\tat org.eclipse.jetty.server.HttpChannel.dispatch(HttpChannel.java:732)",
        "\tat org.eclipse.jetty.server.HttpChannel.handle(HttpChannel.java:479)",
        "\tat org.eclipse.jetty.server.HttpConnection.onFillable(HttpConnection.java:277)",
        "\tat org.eclipse.jetty.io.AbstractConnection$ReadCallback.succeeded(AbstractConnection.java:311)",
        "\tat org.eclipse.jetty.io.FillInterest.fillable(FillInterest.java:105)",
        "\tat org.eclipse.jetty.io.ssl.SslConnection$DecryptedEndPoint.onFillable(SslConnection.java:555)",
        "\tat org.eclipse.jetty.io.ssl.SslConnection.onFillable(SslConnection.java:410)",
        "\tat org.eclipse.jetty.io.ssl.SslConnection$2.succeeded(SslConnection.java:164)",
        "\tat org.eclipse.jetty.io.FillInterest.fillable(FillInterest.java:105)",
        "\tat org.eclipse.jetty.io.ChannelEndPoint$1.run(ChannelEndPoint.java:104)",
        "\tat org.eclipse.jetty.util.thread.strategy.EatWhatYouKill.runTask(EatWhatYouKill.java:338)",
        "\tat org.eclipse.jetty.util.thread.strategy.EatWhatYouKill.doProduce(EatWhatYouKill.java:315)",
        "\tat org.eclipse.jetty.util.thread.strategy.EatWhatYouKill.tryProduce(EatWhatYouKill.java:173)",
        "\tat org.eclipse.jetty.util.thread.strategy.EatWhatYouKill.run(EatWhatYouKill.java:131)",
        "\tat org.eclipse.jetty.util.thread.ReservedThreadExecutor$ReservedThread.run(ReservedThreadExecutor.java:409)",
        "\tat com.databricks.rpc.InstrumentedQueuedThreadPool$$anon$1.$anonfun$run$4(InstrumentedQueuedThreadPool.scala:104)",
        "\tat scala.runtime.java8.JFunction0$mcV$sp.apply(JFunction0$mcV$sp.java:23)",
        "\tat com.databricks.logging.UsageLogging.$anonfun$withAttributionContext$1(UsageLogging.scala:435)",
        "\tat scala.util.DynamicVariable.withValue(DynamicVariable.scala:62)",
        "\tat com.databricks.logging.AttributionContext$.withValue(AttributionContext.scala:216)",
        "\tat com.databricks.logging.UsageLogging.withAttributionContext(UsageLogging.scala:433)",
        "\tat com.databricks.logging.UsageLogging.withAttributionContext$(UsageLogging.scala:427)",
        "\tat com.databricks.rpc.InstrumentedQueuedThreadPool.withAttributionContext(InstrumentedQueuedThreadPool.scala:47)",
        "\tat com.databricks.rpc.InstrumentedQueuedThreadPool$$anon$1.$anonfun$run$1(InstrumentedQueuedThreadPool.scala:104)",
        "\tat scala.runtime.java8.JFunction0$mcV$sp.apply(JFunction0$mcV$sp.java:23)",
        "\tat com.databricks.instrumentation.QueuedThreadPoolInstrumenter.trackActiveThreads(QueuedThreadPoolInstrumenter.scala:67)",
        "\tat com.databricks.instrumentation.QueuedThreadPoolInstrumenter.trackActiveThreads$(QueuedThreadPoolInstrumenter.scala:64)",
        "\tat com.databricks.rpc.InstrumentedQueuedThreadPool.trackActiveThreads(InstrumentedQueuedThreadPool.scala:47)",
        "\tat com.databricks.rpc.InstrumentedQueuedThreadPool$$anon$1.run(InstrumentedQueuedThreadPool.scala:86)",
        "\tat org.eclipse.jetty.util.thread.QueuedThreadPool.runJob(QueuedThreadPool.java:883)",
        "\tat org.eclipse.jetty.util.thread.QueuedThreadPool$Runner.run(QueuedThreadPool.java:1034)",
        "\tat java.lang.Thread.run(Thread.java:750)"
       ],
       "type": "baseError"
      }
     },
     "output_type": "display_data"
    }
   ],
   "source": [
    "filenames= ('pharma.zip', 'clinicaltrial_2020.zip', 'clinicaltrial_2021.zip', 'clinicaltrial_2023.zip')\n",
    "for files in filenames:\n",
    "    unzipper(files)"
   ]
  },
  {
   "cell_type": "code",
   "execution_count": 0,
   "metadata": {
    "application/vnd.databricks.v1+cell": {
     "cellMetadata": {
      "byteLimit": 2048000,
      "rowLimit": 10000
     },
     "inputWidgets": {},
     "nuid": "1fc67a88-dca4-4640-a775-203f9a064f23",
     "showTitle": false,
     "title": ""
    }
   },
   "outputs": [
    {
     "output_type": "execute_result",
     "data": {
      "text/plain": [
       "[FileInfo(path='dbfs:/FileStore/tables/Occupancy_Detection_Data.csv', name='Occupancy_Detection_Data.csv', size=50968, modificationTime=1709148541000),\n",
       " FileInfo(path='dbfs:/FileStore/tables/accounts.zip', name='accounts.zip', size=5297592, modificationTime=1707280149000),\n",
       " FileInfo(path='dbfs:/FileStore/tables/activations-1.zip', name='activations-1.zip', size=8411369, modificationTime=1706722898000),\n",
       " FileInfo(path='dbfs:/FileStore/tables/activations.zip', name='activations.zip', size=8411369, modificationTime=1706712278000),\n",
       " FileInfo(path='dbfs:/FileStore/tables/cleaned_clinical_daniel_amal.csv/', name='cleaned_clinical_daniel_amal.csv/', size=0, modificationTime=0),\n",
       " FileInfo(path='dbfs:/FileStore/tables/clinicaltrial_2020.csv', name='clinicaltrial_2020.csv', size=46318151, modificationTime=1713132688000),\n",
       " FileInfo(path='dbfs:/FileStore/tables/clinicaltrial_2020.zip', name='clinicaltrial_2020.zip', size=10599182, modificationTime=1713132661000),\n",
       " FileInfo(path='dbfs:/FileStore/tables/clinicaltrial_2021.csv', name='clinicaltrial_2021.csv', size=50359696, modificationTime=1713132692000),\n",
       " FileInfo(path='dbfs:/FileStore/tables/clinicaltrial_2021.zip', name='clinicaltrial_2021.zip', size=11508457, modificationTime=1713132662000),\n",
       " FileInfo(path='dbfs:/FileStore/tables/clinicaltrial_2023.csv', name='clinicaltrial_2023.csv', size=292436366, modificationTime=1713132712000),\n",
       " FileInfo(path='dbfs:/FileStore/tables/clinicaltrial_2023.zip', name='clinicaltrial_2023.zip', size=57166668, modificationTime=1713132672000),\n",
       " FileInfo(path='dbfs:/FileStore/tables/flood.csv', name='flood.csv', size=128984, modificationTime=1707935092000),\n",
       " FileInfo(path='dbfs:/FileStore/tables/flood.zip', name='flood.zip', size=52053, modificationTime=1707934994000),\n",
       " FileInfo(path='dbfs:/FileStore/tables/games.csv', name='games.csv', size=143639, modificationTime=1712987248000),\n",
       " FileInfo(path='dbfs:/FileStore/tables/logs.zip', name='logs.zip', size=18168065, modificationTime=1707280214000),\n",
       " FileInfo(path='dbfs:/FileStore/tables/movies.csv', name='movies.csv', size=494431, modificationTime=1709751225000),\n",
       " FileInfo(path='dbfs:/FileStore/tables/myratings.csv', name='myratings.csv', size=10683, modificationTime=1709752808000),\n",
       " FileInfo(path='dbfs:/FileStore/tables/pharma.csv', name='pharma.csv', size=678999, modificationTime=1713132684000),\n",
       " FileInfo(path='dbfs:/FileStore/tables/pharma.zip', name='pharma.zip', size=109982, modificationTime=1713132662000),\n",
       " FileInfo(path='dbfs:/FileStore/tables/ratings.csv', name='ratings.csv', size=2483723, modificationTime=1709751249000),\n",
       " FileInfo(path='dbfs:/FileStore/tables/steam_200k.csv', name='steam_200k.csv', size=8059447, modificationTime=1712987250000),\n",
       " FileInfo(path='dbfs:/FileStore/tables/test-1.json', name='test-1.json', size=17958, modificationTime=1706141084000),\n",
       " FileInfo(path='dbfs:/FileStore/tables/test.json', name='test.json', size=17958, modificationTime=1706140826000),\n",
       " FileInfo(path='dbfs:/FileStore/tables/webpage/', name='webpage/', size=0, modificationTime=0),\n",
       " FileInfo(path='dbfs:/FileStore/tables/webpage-1.zip', name='webpage-1.zip', size=1582, modificationTime=1707330103000),\n",
       " FileInfo(path='dbfs:/FileStore/tables/webpage.zip', name='webpage.zip', size=1582, modificationTime=1707313877000),\n",
       " FileInfo(path='dbfs:/FileStore/tables/webpage_files_all/', name='webpage_files_all/', size=0, modificationTime=0)]"
      ]
     },
     "execution_count": 60,
     "metadata": {},
     "output_type": "execute_result"
    }
   ],
   "source": [
    "dbutils.fs.ls('FileStore/tables/')"
   ]
  },
  {
   "cell_type": "markdown",
   "metadata": {
    "application/vnd.databricks.v1+cell": {
     "cellMetadata": {
      "byteLimit": 2048000,
      "rowLimit": 10000
     },
     "inputWidgets": {},
     "nuid": "b4419719-cbbc-46cc-b755-3a749bac3681",
     "showTitle": false,
     "title": ""
    }
   },
   "source": [
    "Define Cleaning Function"
   ]
  },
  {
   "cell_type": "code",
   "execution_count": 0,
   "metadata": {
    "application/vnd.databricks.v1+cell": {
     "cellMetadata": {
      "byteLimit": 2048000,
      "rowLimit": 10000
     },
     "inputWidgets": {},
     "nuid": "ba3daa27-daae-4e6d-a2f2-0e4125fcaf0d",
     "showTitle": false,
     "title": ""
    }
   },
   "outputs": [],
   "source": [
    "def preprocessor(file_name=None):\n",
    "    if file_name is None:\n",
    "        file_name= input('kindly enter the file you wish to clean')\n",
    "    rdd = spark.sparkContext.textFile(f'FileStore/tables/{file_name}')\n",
    "# Determine the delimiter based on the file content\n",
    "    sample_line = rdd.first() \n",
    "    \n",
    "# Check for '|' or '\\t' delimiter\n",
    "    if '|' in sample_line:\n",
    "        delimiter = '|'\n",
    "        rdd_pipeline = rdd.map(lambda line: line.replace(',,','').replace('\"','')).map(lambda x: x.split(delimiter))\n",
    "    elif '\\t' in sample_line:\n",
    "        delimiter = '\\t'\n",
    "        rdd_pipeline = rdd.map(lambda line: line.replace(',,','').replace('\"','')).map(lambda x: x.split(delimiter))\n",
    "    else:\n",
    "        delimiter = rdd.map(lambda row: next(csv.reader(StringIO(row))))\n",
    "        rdd_pipeline = delimiter.map(lambda row: [item.strip('\"') for item in row])\n",
    "    \n",
    "# Replace missing values with 'NA' in each row of the RDD\n",
    "    rdd_pipeline = rdd_pipeline.map(lambda row: ['NA' if value is None or value == '' else value for value in row])\n",
    "    \n",
    "#Adjust the length of each row in an RDD to a specified length by appending None values to the row until it reaches the desired length\n",
    "    def adjust_row_length(row, length):\n",
    "        return row + ([None] * (length - len(row)))\n",
    "    rdd_pipeline = rdd_pipeline.map(lambda row: adjust_row_length(row, 14))\n",
    "    return rdd_pipeline "
   ]
  },
  {
   "cell_type": "code",
   "execution_count": 0,
   "metadata": {
    "application/vnd.databricks.v1+cell": {
     "cellMetadata": {
      "byteLimit": 2048000,
      "rowLimit": 10000
     },
     "inputWidgets": {},
     "nuid": "4a7ba5b3-b015-43b7-a128-02657f2ff60a",
     "showTitle": false,
     "title": ""
    }
   },
   "outputs": [],
   "source": [
    "#the promting method for qick accessing of files is also commented out but the use case is seen below. reason for hashing it out is same as that of uzipper.\n",
    "#phamData= preprocessor()"
   ]
  },
  {
   "cell_type": "code",
   "execution_count": 0,
   "metadata": {
    "application/vnd.databricks.v1+cell": {
     "cellMetadata": {
      "byteLimit": 2048000,
      "rowLimit": 10000
     },
     "inputWidgets": {},
     "nuid": "678d807f-b1a9-48da-bd98-b4ae9372f7dd",
     "showTitle": false,
     "title": ""
    }
   },
   "outputs": [],
   "source": [
    "pharmaData= preprocessor('pharma.csv')\n",
    "clinical2020= preprocessor('clinicaltrial_2020.csv')\n",
    "clinical2021= preprocessor('clinicaltrial_2021.csv')\n",
    "clinical2023= preprocessor('clinicaltrial_2023.csv')"
   ]
  },
  {
   "cell_type": "code",
   "execution_count": 0,
   "metadata": {
    "application/vnd.databricks.v1+cell": {
     "cellMetadata": {
      "byteLimit": 2048000,
      "rowLimit": 10000
     },
     "inputWidgets": {},
     "nuid": "93836158-aa32-436d-91b5-579f52fe6e9b",
     "showTitle": false,
     "title": ""
    }
   },
   "outputs": [
    {
     "output_type": "execute_result",
     "data": {
      "text/plain": [
       "[['Company',\n",
       "  'Parent_Company',\n",
       "  'Penalty_Amount',\n",
       "  'Subtraction_From_Penalty',\n",
       "  'Penalty_Amount_Adjusted_For_Eliminating_Multiple_Counting',\n",
       "  'Penalty_Year',\n",
       "  'Penalty_Date',\n",
       "  'Offense_Group',\n",
       "  'Primary_Offense',\n",
       "  'Secondary_Offense',\n",
       "  'Description',\n",
       "  'Level_of_Government',\n",
       "  'Action_Type',\n",
       "  'Agency',\n",
       "  'Civil/Criminal',\n",
       "  'Prosecution_Agreement',\n",
       "  'Court',\n",
       "  'Case_ID',\n",
       "  'Private_Litigation_Case_Title',\n",
       "  'Lawsuit_Resolution',\n",
       "  'Facility_State',\n",
       "  'City',\n",
       "  'Address',\n",
       "  'Zip',\n",
       "  'NAICS_Code',\n",
       "  'NAICS_Translation',\n",
       "  'HQ_Country_of_Parent',\n",
       "  'HQ_State_of_Parent',\n",
       "  'Ownership_Structure',\n",
       "  'Parent_Company_Stock_Ticker',\n",
       "  'Major_Industry_of_Parent',\n",
       "  'Specific_Industry_of_Parent',\n",
       "  'Info_Source',\n",
       "  'Notes'],\n",
       " ['Abbott Laboratories',\n",
       "  'Abbott Laboratories',\n",
       "  '$5,475,000',\n",
       "  '$0',\n",
       "  '$5,475,000',\n",
       "  '2013',\n",
       "  '20131227',\n",
       "  'government-contracting-related offenses',\n",
       "  'False Claims Act and related',\n",
       "  'kickbacks and bribery',\n",
       "  \"Abbott Laboratories agreed to $5.475 million to resolve allegations that it violated the False Claims Act by paying kickbacks to induce doctors to implant the company's carotid, biliary and peripheral vascular products.\",\n",
       "  'federal',\n",
       "  'agency action',\n",
       "  'Justice Department Civil Division',\n",
       "  'civil',\n",
       "  'NA',\n",
       "  'NA',\n",
       "  'NA',\n",
       "  'NA',\n",
       "  'NA',\n",
       "  'NA',\n",
       "  'NA',\n",
       "  'NA',\n",
       "  'NA',\n",
       "  'NA',\n",
       "  'NA',\n",
       "  'USA',\n",
       "  'Illinois',\n",
       "  'publicly traded',\n",
       "  'ABT',\n",
       "  'pharmaceuticals',\n",
       "  'pharmaceuticals',\n",
       "  'https://www.justice.gov/opa/pr/abbott-laboratories-pays-us-5475-million-settle-claims-company-paid-kickbacks-physicians',\n",
       "  'NA'],\n",
       " ['Abbott Laboratories Inc.',\n",
       "  'AbbVie',\n",
       "  '$1,500,000,000',\n",
       "  '$0',\n",
       "  '$1,500,000,000',\n",
       "  '2012',\n",
       "  '20120507',\n",
       "  'healthcare-related offenses',\n",
       "  'off-label or unapproved promotion of medical products',\n",
       "  'NA',\n",
       "  \"Global Health Care Company Abbott Laboratories Inc. has pleaded guilty and agreed to pay $1.5 billion to resolve its criminal and civil liability arising from the company's unlawful promotion of the prescription drug Depakote for uses not approved as safe and effective by the Food and Drug Administration. The resolution - the second largest payment by a drug company - includes a criminal fine and forfeiture totaling $700 million and civil settlements with the federal government and the states totaling $800 million. Abbott also will be subject to court-supervised probation and reporting obligations for Abbotts CEO and Board of Directors.\",\n",
       "  'federal',\n",
       "  'agency action',\n",
       "  'Food and Drug Administration referral to the Justice Department',\n",
       "  'civil and criminal',\n",
       "  'NA',\n",
       "  'NA',\n",
       "  'NA',\n",
       "  'NA',\n",
       "  'NA',\n",
       "  'NA',\n",
       "  'NA',\n",
       "  'NA',\n",
       "  'NA',\n",
       "  'NA',\n",
       "  'NA',\n",
       "  'USA',\n",
       "  'Illinois',\n",
       "  'publicly traded',\n",
       "  'ABBV',\n",
       "  'pharmaceuticals',\n",
       "  'pharmaceuticals',\n",
       "  'http://www.justice.gov/opa/pr/abbott-labs-pay-15-billion-resolve-criminal-civil-investigations-label-promotion-depakote',\n",
       "  'NA'],\n",
       " ['Abbott Laboratories Inc.',\n",
       "  'AbbVie',\n",
       "  '$126,500,000',\n",
       "  '$0',\n",
       "  '$126,500,000',\n",
       "  '2010',\n",
       "  '20101207',\n",
       "  'government-contracting-related offenses',\n",
       "  'False Claims Act and related',\n",
       "  'NA',\n",
       "  'Abbott Laboratories Inc., B. Braun Medical Inc. and Roxane Laboratories Inc. n/k/a Boehringer Ingelheim Roxane Inc. and affiliated entities agreed to pay $421 million to settle False Claims Act allegations, that they engaged in a scheme to report false and inflated prices for numerous pharmaceutical products knowing that federal healthcare programs relied on those reported prices to set payment rates.',\n",
       "  'federal',\n",
       "  'agency action',\n",
       "  'Justice Department Civil Division',\n",
       "  'civil',\n",
       "  'NA',\n",
       "  'NA',\n",
       "  'NA',\n",
       "  'NA',\n",
       "  'NA',\n",
       "  'NA',\n",
       "  'NA',\n",
       "  'NA',\n",
       "  'NA',\n",
       "  'NA',\n",
       "  'NA',\n",
       "  'USA',\n",
       "  'Illinois',\n",
       "  'publicly traded',\n",
       "  'ABBV',\n",
       "  'pharmaceuticals',\n",
       "  'pharmaceuticals',\n",
       "  'https://www.justice.gov/opa/pr/pharmaceutical-manufacturers-pay-4212-million-settle-false-claims-act-cases',\n",
       "  'NA'],\n",
       " ['Abbott Laboratories Puerto Rico, Inc.',\n",
       "  'Abbott Laboratories',\n",
       "  '$49,045',\n",
       "  '$0',\n",
       "  '$49,045',\n",
       "  '2009',\n",
       "  '20090305',\n",
       "  'employment-related offenses',\n",
       "  'wage and hour violation',\n",
       "  'Fair Labor Standards Act',\n",
       "  'NA',\n",
       "  'federal',\n",
       "  'agency action',\n",
       "  'Labor Department Wage and Hour Division',\n",
       "  'civil',\n",
       "  'NA',\n",
       "  'NA',\n",
       "  '1527129',\n",
       "  'NA',\n",
       "  'NA',\n",
       "  'Puerto Rico',\n",
       "  'San Juan',\n",
       "  'NA',\n",
       "  'NA',\n",
       "  '423450',\n",
       "  '423450: Medical, Dental, and Hospital Equipment and Supplies Merchant Wholesalers',\n",
       "  'USA',\n",
       "  'Illinois',\n",
       "  'publicly traded',\n",
       "  'ABT',\n",
       "  'pharmaceuticals',\n",
       "  'pharmaceuticals',\n",
       "  'March 7, 2017 download of a dataset posted by the Wage and Hour Division at https://enforcedata.dol.gov/views/data_summary.php',\n",
       "  'Date and year are the Findings End Date in the dataset posted by the Wage and Hour Division, which does not provide case opening or closing dates. The company name is the Legal Name provided by the dataset unless that field is blank, in which case the Trade Name is used. The dataset provides only one address and does not indicate whether it is the company headquarters address or the establishment address. The penalty amount is the total of civil monetary penalties and mandated back wages. The original dataset provides a breakdown.'],\n",
       " ['Acclarent Inc.',\n",
       "  'Johnson & Johnson',\n",
       "  '$18,000,000',\n",
       "  '$0',\n",
       "  '$18,000,000',\n",
       "  '2016',\n",
       "  '20160722',\n",
       "  'government-contracting-related offenses',\n",
       "  'False Claims Act and related',\n",
       "  'NA',\n",
       "  'California-based medical device manufacturer Acclarent Inc., a subsidiary of Johnson & Johnson, agreed to pay $18 million to resolve allegations that the company caused health care providers to submit false claims to Medicare and other federal health care programs by marketing and distributing its sinus spacer product for use as a drug delivery device without Food and Drug Administration approval.',\n",
       "  'federal',\n",
       "  'agency action',\n",
       "  'Justice Department Civil Division',\n",
       "  'civil',\n",
       "  'NA',\n",
       "  'NA',\n",
       "  'NA',\n",
       "  'NA',\n",
       "  'NA',\n",
       "  'NA',\n",
       "  'NA',\n",
       "  'NA',\n",
       "  'NA',\n",
       "  'NA',\n",
       "  'NA',\n",
       "  'USA',\n",
       "  'New Jersey',\n",
       "  'publicly traded',\n",
       "  'JNJ',\n",
       "  'pharmaceuticals',\n",
       "  'pharmaceuticals',\n",
       "  'https://www.justice.gov/opa/pr/johnson-johnson-subsidiary-acclarent-inc-pays-government-18-million-settle-false-claims-act',\n",
       "  'NA'],\n",
       " ['Advanced Medical Optics',\n",
       "  'Abbott Laboratories',\n",
       "  '$16,800',\n",
       "  '$0',\n",
       "  '$16,800',\n",
       "  '2004',\n",
       "  '20040412',\n",
       "  'employment-related offenses',\n",
       "  'labor relations violation',\n",
       "  'NA',\n",
       "  'back pay award in unfair labor practices case',\n",
       "  'federal',\n",
       "  'agency action',\n",
       "  'National Labor Relations Board',\n",
       "  'civil',\n",
       "  'NA',\n",
       "  'NA',\n",
       "  '21-CA-36104-001',\n",
       "  'NA',\n",
       "  'NA',\n",
       "  'California',\n",
       "  'Irvine',\n",
       "  'NA',\n",
       "  '92606',\n",
       "  '333314',\n",
       "  '333314: Optical Instrument and Lens Manufacturing',\n",
       "  'USA',\n",
       "  'Illinois',\n",
       "  'publicly traded',\n",
       "  'ABT',\n",
       "  'pharmaceuticals',\n",
       "  'pharmaceuticals',\n",
       "  'Extracted from an NLRB dataset covering 1999-2011 downloaded at https://catalog.data.gov/dataset/nlrb-cats-final-c-case-data-bulk-19990101-20110930-in-xml',\n",
       "  'NA'],\n",
       " ['Advanced Neuromodulation Systems, Inc.',\n",
       "  'Abbott Laboratories',\n",
       "  '$2,950,000',\n",
       "  '$0',\n",
       "  '$2,950,000',\n",
       "  '2007',\n",
       "  '20070702',\n",
       "  'healthcare-related offenses',\n",
       "  'HHS civil monetary penalties',\n",
       "  'kickbacks and bribery',\n",
       "  'The HHS Inspector General announced that Advanced Neuromodulation Systems, Inc.,  a medical device manufacturer specializing in spinal cord stimulation used for pain management, agreed to pay $2.95 million to settle allegations that it paid kickbacks to physicians in violation of the Civil Monetary Penalties Law (CMPL). The company also entered into a 3-year Corporate Integrity Agreement.',\n",
       "  'federal',\n",
       "  'agency action',\n",
       "  'Health & Human Services Department Office of Inspector General',\n",
       "  'civil',\n",
       "  'NA',\n",
       "  'NA',\n",
       "  'NA',\n",
       "  'NA',\n",
       "  'NA',\n",
       "  'NA',\n",
       "  'NA',\n",
       "  'NA',\n",
       "  'NA',\n",
       "  'NA',\n",
       "  'NA',\n",
       "  'USA',\n",
       "  'Illinois',\n",
       "  'publicly traded',\n",
       "  'ABT',\n",
       "  'pharmaceuticals',\n",
       "  'pharmaceuticals',\n",
       "  'https://oig.hhs.gov/publications/docs/press/2007/ANS%20Press%20Release.pdf',\n",
       "  'NA'],\n",
       " ['Advanced Sterilization Products',\n",
       "  'Johnson & Johnson',\n",
       "  '$136,800',\n",
       "  '$0',\n",
       "  '$136,800',\n",
       "  '2014',\n",
       "  '20140520',\n",
       "  'environment-related offenses',\n",
       "  'environmental violation',\n",
       "  'NA',\n",
       "  'The U.S. Environmental Protection Agency announced that an Irvine, Calif. company, Advanced Sterilization Products, has agreed to pay a $136,800 penalty for the sale and distribution of unregistered and misbranded pesticides to veterinary clinics and laboratories nationwide.',\n",
       "  'federal',\n",
       "  'agency action',\n",
       "  'Environmental Protection Agency',\n",
       "  'civil',\n",
       "  'NA',\n",
       "  'NA',\n",
       "  'NA',\n",
       "  'NA',\n",
       "  'NA',\n",
       "  'California',\n",
       "  'Irvine',\n",
       "  'NA',\n",
       "  'NA',\n",
       "  'NA',\n",
       "  'NA',\n",
       "  'USA',\n",
       "  'New Jersey',\n",
       "  'publicly traded',\n",
       "  'JNJ',\n",
       "  'pharmaceuticals',\n",
       "  'pharmaceuticals',\n",
       "  'https://archive.epa.gov/epapages/newsroom_archive/newsreleases/8e820317c86e4c5685257cde00717855.html',\n",
       "  'NA'],\n",
       " ['Advanced Sterilization Products, a division of Ethicon Inc.',\n",
       "  'Johnson & Johnson',\n",
       "  '$1,200,000',\n",
       "  '$0',\n",
       "  '$1,200,000',\n",
       "  '2013',\n",
       "  '20131204',\n",
       "  'safety-related offenses',\n",
       "  'drug or medical equipment safety violation',\n",
       "  'NA',\n",
       "  \"Settlement of a civil money penalty action against Advanced Sterilization Products, a division of Ethicon Inc., a Johnson & Johnson company, and two of ASP's executives alleging that ASP manufactured and distributed adulterated and misbranded sterilization monitoring products.\",\n",
       "  'federal',\n",
       "  'agency action',\n",
       "  'Food and Drug Administration',\n",
       "  'civil',\n",
       "  'NA',\n",
       "  'NA',\n",
       "  'NA',\n",
       "  'NA',\n",
       "  'NA',\n",
       "  'California',\n",
       "  'Irvine',\n",
       "  'NA',\n",
       "  'NA',\n",
       "  'NA',\n",
       "  'NA',\n",
       "  'USA',\n",
       "  'New Jersey',\n",
       "  'publicly traded',\n",
       "  'JNJ',\n",
       "  'pharmaceuticals',\n",
       "  'pharmaceuticals',\n",
       "  'http://www.fda.gov/NewsEvents/Newsroom/PressAnnouncements/ucm377588.htm',\n",
       "  'NA']]"
      ]
     },
     "execution_count": 5,
     "metadata": {},
     "output_type": "execute_result"
    }
   ],
   "source": [
    "pharmaData.take(10)"
   ]
  },
  {
   "cell_type": "markdown",
   "metadata": {
    "application/vnd.databricks.v1+cell": {
     "cellMetadata": {},
     "inputWidgets": {},
     "nuid": "c4e72785-ebd6-4185-a07e-58a7c4894cb8",
     "showTitle": false,
     "title": ""
    }
   },
   "source": [
    "Answering Questions"
   ]
  },
  {
   "cell_type": "code",
   "execution_count": 0,
   "metadata": {
    "application/vnd.databricks.v1+cell": {
     "cellMetadata": {
      "byteLimit": 2048000,
      "rowLimit": 10000
     },
     "inputWidgets": {},
     "nuid": "06324f01-a160-406a-8f96-529ea3910d3d",
     "showTitle": true,
     "title": "Function 1"
    }
   },
   "outputs": [],
   "source": [
    "#distinct column counter\n",
    "def distinctRDDcount(columnName, Rddversion):\n",
    "    RddHeaderName= Rddversion.first()\n",
    "    indexer= RddHeaderName.index(f'{columnName}')\n",
    "    distinct_count= Rddversion.filter(lambda x: x != RddHeaderName).map(lambda x: x[indexer])\\\n",
    "        .distinct()\\\n",
    "            .count()\n",
    "    print(f'Total Distinct Study Count:\\n {distinct_count}')"
   ]
  },
  {
   "cell_type": "code",
   "execution_count": 0,
   "metadata": {
    "application/vnd.databricks.v1+cell": {
     "cellMetadata": {
      "byteLimit": 2048000,
      "rowLimit": 10000
     },
     "inputWidgets": {},
     "nuid": "40ea4362-0b5f-42d4-b21b-8934c92133b0",
     "showTitle": true,
     "title": "Answer1. 2023"
    }
   },
   "outputs": [
    {
     "output_type": "stream",
     "name": "stdout",
     "output_type": "stream",
     "text": [
      "Total Distinct Study Count:\n 481102\n"
     ]
    }
   ],
   "source": [
    "distinctRDDcount('Study Title', clinical2023)"
   ]
  },
  {
   "cell_type": "code",
   "execution_count": 0,
   "metadata": {
    "application/vnd.databricks.v1+cell": {
     "cellMetadata": {
      "byteLimit": 2048000,
      "rowLimit": 10000
     },
     "inputWidgets": {},
     "nuid": "b909cc97-4623-481f-a62d-7a2fd1ae5aff",
     "showTitle": true,
     "title": "Answer1.  2021"
    }
   },
   "outputs": [
    {
     "output_type": "stream",
     "name": "stdout",
     "output_type": "stream",
     "text": [
      "Total Distinct Study Count:\n 387261\n"
     ]
    }
   ],
   "source": [
    "distinctRDDcount('Id', clinical2021)"
   ]
  },
  {
   "cell_type": "code",
   "execution_count": 0,
   "metadata": {
    "application/vnd.databricks.v1+cell": {
     "cellMetadata": {
      "byteLimit": 2048000,
      "rowLimit": 10000
     },
     "inputWidgets": {},
     "nuid": "5ac4800b-efec-4dc7-b108-13b5e457694d",
     "showTitle": true,
     "title": "Function 2"
    }
   },
   "outputs": [],
   "source": [
    "#Total Values Counter--- useable for types\n",
    "def types_counts(columnName, Rddversion):\n",
    "    RddHeaderName= Rddversion.first()\n",
    "    indexer= RddHeaderName.index(f'{columnName}')\n",
    "\n",
    "    #filer out header and also the empty columns if any exists\n",
    "    types_counts= Rddversion.filter(lambda x: x != RddHeaderName)\\\n",
    "        .filter(lambda rows: len(rows) > indexer)\\\n",
    "        .map(lambda x: x[indexer])\n",
    "\n",
    "    #using spark inbult countbyvalue to get each class count and then sort\n",
    "    types_counts= types_counts.countByValue()\n",
    "    sorted_counts= sorted(types_counts.items(), key= lambda x: x[1], reverse=True)\n",
    "    for value, count in sorted_counts:\n",
    "        print(value, count)"
   ]
  },
  {
   "cell_type": "code",
   "execution_count": 0,
   "metadata": {
    "application/vnd.databricks.v1+cell": {
     "cellMetadata": {
      "byteLimit": 2048000,
      "rowLimit": 10000
     },
     "inputWidgets": {},
     "nuid": "813fdc3f-9dde-492f-8c78-72b43c7008c6",
     "showTitle": false,
     "title": ""
    }
   },
   "outputs": [
    {
     "output_type": "stream",
     "name": "stdout",
     "output_type": "stream",
     "text": [
      "INTERVENTIONAL 371382\nOBSERVATIONAL 110221\nEXPANDED_ACCESS 928\nNA 889\nNone 2\n"
     ]
    }
   ],
   "source": [
    "#Use case for 2023\n",
    "types_counts('Type', clinical2023)"
   ]
  },
  {
   "cell_type": "code",
   "execution_count": 0,
   "metadata": {
    "application/vnd.databricks.v1+cell": {
     "cellMetadata": {
      "byteLimit": 2048000,
      "rowLimit": 10000
     },
     "inputWidgets": {},
     "nuid": "34e45a9b-daee-42e5-88ba-455cb9e86738",
     "showTitle": false,
     "title": ""
    }
   },
   "outputs": [
    {
     "output_type": "stream",
     "name": "stdout",
     "output_type": "stream",
     "text": [
      "Interventional 277631\nObservational 71434\nObservational [Patient Registry] 7332\nExpanded Access 69\n"
     ]
    }
   ],
   "source": [
    "#validation of efficiency and accuracy of function with 2020 results\n",
    "types_counts('Type', clinical2020)"
   ]
  },
  {
   "cell_type": "code",
   "execution_count": 0,
   "metadata": {
    "application/vnd.databricks.v1+cell": {
     "cellMetadata": {
      "byteLimit": 2048000,
      "rowLimit": 10000
     },
     "inputWidgets": {},
     "nuid": "ebfa7680-786b-4e13-a07c-c024e3a22eed",
     "showTitle": true,
     "title": "Function 3"
    }
   },
   "outputs": [],
   "source": [
    "#Conditions Frequecy function\n",
    "def search_top_conditions(Rddversion):\n",
    "    RddHeaderName= Rddversion.first()\n",
    "    indexer= RddHeaderName.index('Conditions')\n",
    "\n",
    "#search for delimiter for each version  \n",
    "    sample_rows= Rddversion.take(6)\n",
    "    for row in sample_rows:\n",
    "        column_data = row[indexer]\n",
    "        if column_data == 'NA':\n",
    "            continue  # Skip to the next row if the value is empty\n",
    "        elif '|' in column_data or ',' in column_data:\n",
    "            delimiter = ',' if ',' in column_data else '|'\n",
    "\n",
    "    condition= Rddversion.filter(lambda x: x != RddHeaderName)\\\n",
    "                                    .filter(lambda row: row[indexer] != 'NA')\\\n",
    "                                        .flatMap(lambda row: row[indexer].split(delimiter) if row[indexer] else [])\n",
    "\n",
    "    conditionCounts= condition.map(lambda x: (x.strip(), 1)).countByValue()\n",
    "    sortedConditionFrequenciesRDD = sorted(conditionCounts.items(), key=lambda x: x[1], reverse=True)\n",
    "\n",
    "    print(\"Top 5 conditions with their frequencies: \\n\")\n",
    "    for condition, frequency in sortedConditionFrequenciesRDD[:5]:\n",
    "        print(f\"Condition: {condition[0]}, Frequency: {frequency}\")"
   ]
  },
  {
   "cell_type": "code",
   "execution_count": 0,
   "metadata": {
    "application/vnd.databricks.v1+cell": {
     "cellMetadata": {
      "byteLimit": 2048000,
      "rowLimit": 10000
     },
     "inputWidgets": {},
     "nuid": "84aead5d-306a-493b-9683-c37abe07c0db",
     "showTitle": false,
     "title": ""
    }
   },
   "outputs": [
    {
     "output_type": "stream",
     "name": "stdout",
     "output_type": "stream",
     "text": [
      "Top 5 conditions with their frequencies: \n\nCondition: Healthy, Frequency: 9731\nCondition: Breast Cancer, Frequency: 7502\nCondition: Obesity, Frequency: 6549\nCondition: Stroke, Frequency: 4072\nCondition: Hypertension, Frequency: 4020\n"
     ]
    }
   ],
   "source": [
    "search_top_conditions(clinical2023)"
   ]
  },
  {
   "cell_type": "code",
   "execution_count": 0,
   "metadata": {
    "application/vnd.databricks.v1+cell": {
     "cellMetadata": {
      "byteLimit": 2048000,
      "rowLimit": 10000
     },
     "inputWidgets": {},
     "nuid": "98354408-acf9-477a-a40c-0bcf6cfbb99f",
     "showTitle": false,
     "title": ""
    }
   },
   "outputs": [
    {
     "output_type": "stream",
     "name": "stdout",
     "output_type": "stream",
     "text": [
      "Top 5 conditions with their frequencies: \n\nCondition: Carcinoma, Frequency: 13389\nCondition: Diabetes Mellitus, Frequency: 11080\nCondition: Neoplasms, Frequency: 9371\nCondition: Breast Neoplasms, Frequency: 8640\nCondition: Syndrome, Frequency: 8032\n"
     ]
    }
   ],
   "source": [
    "search_top_conditions(clinical2021)"
   ]
  },
  {
   "cell_type": "code",
   "execution_count": 0,
   "metadata": {
    "application/vnd.databricks.v1+cell": {
     "cellMetadata": {
      "byteLimit": 2048000,
      "rowLimit": 10000
     },
     "inputWidgets": {},
     "nuid": "7f350f7e-7566-4909-93ed-b61121f08f11",
     "showTitle": true,
     "title": "Function 4"
    }
   },
   "outputs": [],
   "source": [
    "#Forth Functions can count both sponsor column and any other specified columns\n",
    "def top_10(colName, Rddversion):\n",
    "    pharmaceuticals= set()\n",
    "\n",
    "    indexer= Rddversion.first().index(f'{colName}')\n",
    "    pham= pharmaData.map(lambda x: x[1]).distinct()\n",
    "    for lines in pham.collect():\n",
    "        pharmaceuticals.add(lines)\n",
    "\n",
    "    non_pham= Rddversion.filter(lambda x: x[indexer] not in pharmaceuticals)\n",
    "    non_pham= non_pham.map(lambda x: x[indexer], 1).countByValue()\n",
    "    non_pham_sort= sorted(non_pham.items(), key= lambda col: col[1], reverse=True)\n",
    "\n",
    "    print('Top 10 Non-Pharmaceutical Sponsoring Companies\\n')\n",
    "    for values, count in non_pham_sort[:10]:\n",
    "        print(f'Company: {values}, Frequecy: {count}')"
   ]
  },
  {
   "cell_type": "code",
   "execution_count": 0,
   "metadata": {
    "application/vnd.databricks.v1+cell": {
     "cellMetadata": {
      "byteLimit": 2048000,
      "rowLimit": 10000
     },
     "inputWidgets": {},
     "nuid": "5624356f-4374-4b01-a2a5-35bc79f71c47",
     "showTitle": false,
     "title": ""
    }
   },
   "outputs": [
    {
     "output_type": "stream",
     "name": "stdout",
     "output_type": "stream",
     "text": [
      "Top 10 Non-Pharmaceutical Sponsoring Companies\n\nCompany: National Cancer Institute (NCI), Frequecy: 3410\nCompany: Assiut University, Frequecy: 3335\nCompany: Cairo University, Frequecy: 3023\nCompany: Assistance Publique - Hôpitaux de Paris, Frequecy: 2951\nCompany: Mayo Clinic, Frequecy: 2766\nCompany: M.D. Anderson Cancer Center, Frequecy: 2702\nCompany: Novartis Pharmaceuticals, Frequecy: 2393\nCompany: National Institute of Allergy and Infectious Diseases (NIAID), Frequecy: 2340\nCompany: Massachusetts General Hospital, Frequecy: 2263\nCompany: National Taiwan University Hospital, Frequecy: 2181\n"
     ]
    }
   ],
   "source": [
    "top_10('Sponsor', clinical2023)"
   ]
  },
  {
   "cell_type": "code",
   "execution_count": 0,
   "metadata": {
    "application/vnd.databricks.v1+cell": {
     "cellMetadata": {
      "byteLimit": 2048000,
      "rowLimit": 10000
     },
     "inputWidgets": {},
     "nuid": "c7037efd-a02b-4ab5-b594-daca589df60d",
     "showTitle": false,
     "title": ""
    }
   },
   "outputs": [
    {
     "output_type": "stream",
     "name": "stdout",
     "output_type": "stream",
     "text": [
      "Top 10 Non-Pharmaceutical Sponsoring Companies\n\nCompany: National Cancer Institute (NCI), Frequecy: 3100\nCompany: M.D. Anderson Cancer Center, Frequecy: 2238\nCompany: Merck Sharp & Dohme Corp., Frequecy: 2184\nCompany: Mayo Clinic, Frequecy: 2097\nCompany: Assistance Publique - Hôpitaux de Paris, Frequecy: 2043\nCompany: Novartis Pharmaceuticals, Frequecy: 1962\nCompany: Massachusetts General Hospital, Frequecy: 1823\nCompany: Assiut University, Frequecy: 1806\nCompany: Hoffmann-La Roche, Frequecy: 1761\nCompany: National Taiwan University Hospital, Frequecy: 1720\n"
     ]
    }
   ],
   "source": [
    "top_10('Sponsor', clinical2020)"
   ]
  },
  {
   "cell_type": "code",
   "execution_count": 0,
   "metadata": {
    "application/vnd.databricks.v1+cell": {
     "cellMetadata": {
      "byteLimit": 2048000,
      "rowLimit": 10000
     },
     "inputWidgets": {},
     "nuid": "c46edf89-3a0b-4169-b5ae-e07fcf7070e5",
     "showTitle": true,
     "title": "Function 5"
    }
   },
   "outputs": [],
   "source": [
    "def monthly_study_count(Rddversion, target_year):\n",
    "    header= Rddversion.first()\n",
    "    data= Rddversion.filter(lambda x: x != header)\n",
    "    if target_year == 2023:\n",
    "        cmp_dates = data.filter(lambda x: x[3] == 'COMPLETED' and x[13] is not None and x[13].startswith(f'{target_year}')).map(lambda x: x[13].strip(','))\n",
    "        cmp_dates = cmp_dates.map(lambda x: x.split('-')[1])\n",
    "        cmp_date_counts = cmp_dates.countByValue()\n",
    "        sorted_date_count = sorted(cmp_date_counts.items(), key=lambda x: x[0], reverse= False)\n",
    "    else :\n",
    "        cmp_date= data.filter(lambda x: x[2] == 'Completed' and x[4].endswith(f'{target_year}'))\n",
    "        cmp_date= cmp_date.map(lambda x: x[4].split(' ')[0]).countByValue()\n",
    "        sorted_date_count= sorted(cmp_date.items(), key=lambda x:['Jan', 'Feb', 'Mar', 'Apr', 'May', 'Jun', 'Jul', 'Aug', 'Sep', 'Oct', 'Nov', 'Dec'].index(x[0]))\n",
    "\n",
    "    \n",
    "    months = [pair[0] for pair in sorted_date_count]\n",
    "    counts = [pair[1] for pair in sorted_date_count]\n",
    "\n",
    "    sns.set_style(\"whitegrid\")\n",
    "\n",
    "    plt.figure(figsize=(7, 4))\n",
    "    sns.barplot(x=months, y=counts, palette='Oranges')\n",
    "    plt.xlabel(\"Month\")\n",
    "    plt.ylabel(\"Number of Completed Studies\")\n",
    "    plt.title(f\"Number of Completed Studies by Month in {target_year}\")\n",
    "    plt.xticks(rotation=45)\n",
    "    plt.tight_layout()\n",
    "    plt.show()\n",
    "\n",
    "    print(f\"Table of Number of Completed Studies for Each Month in {target_year}:\")\n",
    "    print(\"Month\\tNumber of Studies Completed\")\n",
    "    for month, count in sorted_date_count:\n",
    "        print(f\"{month}\\t{count}\")"
   ]
  },
  {
   "cell_type": "code",
   "execution_count": 0,
   "metadata": {
    "application/vnd.databricks.v1+cell": {
     "cellMetadata": {
      "byteLimit": 2048000,
      "rowLimit": 10000
     },
     "inputWidgets": {},
     "nuid": "8fd21a87-5c30-4ab2-96d4-d243c363be66",
     "showTitle": false,
     "title": ""
    }
   },
   "outputs": [],
   "source": []
  },
  {
   "cell_type": "code",
   "execution_count": 0,
   "metadata": {
    "application/vnd.databricks.v1+cell": {
     "cellMetadata": {
      "byteLimit": 2048000,
      "rowLimit": 10000
     },
     "inputWidgets": {},
     "nuid": "c1a3d864-cd2e-48b6-b157-dbf1a94b38ff",
     "showTitle": false,
     "title": ""
    }
   },
   "outputs": [
    {
     "output_type": "display_data",
     "data": {
      "image/png": "[encoded data removed]",
      "text/plain": [
       "<Figure size 700x400 with 1 Axes>"
      ]
     },
     "metadata": {},
     "output_type": "display_data"
    },
    {
     "output_type": "stream",
     "name": "stdout",
     "output_type": "stream",
     "text": [
      "Table of Number of Completed Studies for Each Month in 2023:\nMonth\tNumber of Studies Completed\n01\t1494\n02\t1272\n03\t1552\n04\t1324\n05\t1415\n06\t1619\n07\t1360\n08\t1230\n09\t1152\n10\t1058\n11\t909\n12\t1082\n"
     ]
    }
   ],
   "source": [
    "monthly_study_count(clinical2023, 2023)"
   ]
  },
  {
   "cell_type": "code",
   "execution_count": 0,
   "metadata": {
    "application/vnd.databricks.v1+cell": {
     "cellMetadata": {
      "byteLimit": 2048000,
      "rowLimit": 10000
     },
     "inputWidgets": {},
     "nuid": "160f05af-8003-4670-a91b-569658778f2b",
     "showTitle": false,
     "title": ""
    }
   },
   "outputs": [
    {
     "output_type": "display_data",
     "data": {
      "image/png": "[encoded data removed]",
      "text/plain": [
       "<Figure size 700x400 with 1 Axes>"
      ]
     },
     "metadata": {},
     "output_type": "display_data"
    },
    {
     "output_type": "stream",
     "name": "stdout",
     "output_type": "stream",
     "text": [
      "Table of Number of Completed Studies for Each Month in 2020:\nMonth\tNumber of Studies Completed\nJan\t1544\nFeb\t1286\nMar\t1740\nApr\t1080\nMay\t1176\nJun\t1424\nJul\t1237\nAug\t1126\nSep\t1167\nOct\t1176\nNov\t1078\nDec\t2084\n"
     ]
    }
   ],
   "source": [
    "monthly_study_count(clinical2020, 2020)"
   ]
  },
  {
   "cell_type": "code",
   "execution_count": 0,
   "metadata": {
    "application/vnd.databricks.v1+cell": {
     "cellMetadata": {
      "byteLimit": 2048000,
      "rowLimit": 10000
     },
     "inputWidgets": {},
     "nuid": "90f48eb5-72c6-4d97-8d62-63cace596d5a",
     "showTitle": false,
     "title": ""
    }
   },
   "outputs": [
    {
     "output_type": "display_data",
     "data": {
      "text/plain": [
       "kindly enter the file you wish to clean clinicaltrial_2020.csv"
      ]
     },
     "metadata": {},
     "output_type": "display_data"
    },
    {
     "output_type": "display_data",
     "data": {
      "text/plain": [
       "kindly enter the file you wish to clean clinicaltrial_2021.csv"
      ]
     },
     "metadata": {},
     "output_type": "display_data"
    },
    {
     "output_type": "display_data",
     "data": {
      "text/plain": [
       "kindly enter the file you wish to clean clinicaltrial_2023.csv"
      ]
     },
     "metadata": {},
     "output_type": "display_data"
    }
   ],
   "source": [
    "data2020=preprocessor()\n",
    "data2021= preprocessor()\n",
    "data2023= preprocessor()"
   ]
  }
 ],
 "metadata": {
  "application/vnd.databricks.v1+notebook": {
   "dashboards": [],
   "language": "python",
   "notebookMetadata": {
    "pythonIndentUnit": 4
   },
   "notebookName": "Daniel_Tolorunleke_rdd",
   "widgets": {}
  }
 },
 "nbformat": 4,
 "nbformat_minor": 0
}
